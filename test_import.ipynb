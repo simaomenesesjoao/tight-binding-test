{
 "cells": [
  {
   "cell_type": "code",
   "execution_count": 3,
   "id": "banner-music",
   "metadata": {},
   "outputs": [],
   "source": [
    "import numpy as np\n",
    "import matplotlib.pyplot as plt\n",
    "import sys\n",
    "sys.path.insert(1, '/home/simao/projects_sync/codes/tight-binding-test/src/')\n",
    "import band_structure as bs"
   ]
  },
  {
   "cell_type": "code",
   "execution_count": 5,
   "id": "visible-surfing",
   "metadata": {},
   "outputs": [],
   "source": [
    "\n",
    "GR = bs.band_structure()\n",
    "GR.DEBUG = 0 # Debug flag. Set to 1 to get debug information\n",
    "\n",
    "# Lattice properties and primitive vectors (already defined reciprocal lattice vectors)\n",
    "acc = 1.0\n",
    "a = np.sqrt(3)\n",
    "a1 = np.array([1.0,  0.0           ])*a\n",
    "a2 = np.array([0.5,  np.sqrt(3)/2.0])*a\n",
    "GR.set_primitive2(a1,a2)\n",
    "\n",
    "\n",
    "# Information about the orbitals\n",
    "orbitals = [\"A\", \"B\", \"C\"]\n",
    "orb_pos = [np.array([0.0    ,  0.0    ]), \n",
    "           np.array([0.0    ,  0.0    ]),\n",
    "           np.array([1.0/3.0, -2.0/3.0])] # in units of the primitive lattice vectors\n",
    "GR.set_orbs(orbitals, orb_pos)\n",
    "\n",
    "\n",
    "# Information about the hoppings for the tight-binding model\n",
    "bonds = []\n",
    "t = 1.0\n",
    "\n",
    "bonds.append([[ 0, 0], 'A', 'B', -0.7*t])\n",
    "bonds.append([[-1, 1], 'A', 'B', -2.0*t])\n",
    "bonds.append([[ 0, 1], 'A', 'B',  0.4*t])\n",
    "bonds.append([[-1, 1], 'A', 'C', -1.1*t])\n",
    "bonds.append([[-1, 0], 'B', 'C',  0.3*t])\n",
    "GR.set_bonds(bonds)\n"
   ]
  },
  {
   "cell_type": "code",
   "execution_count": 6,
   "id": "therapeutic-ecuador",
   "metadata": {},
   "outputs": [
    {
     "data": {
      "image/png": "[encoded data removed]",
      "text/plain": [
       "<Figure size 432x288 with 1 Axes>"
      ]
     },
     "metadata": {
      "needs_background": "light"
     },
     "output_type": "display_data"
    }
   ],
   "source": [
    "\n",
    "if __name__ == \"__main__\":   \n",
    "    G = [0,0]\n",
    "    M = [0.5, 0]\n",
    "    K = [1.0/3.0, -1.0/3.0]\n",
    "\n",
    "    GR.set_kpath([G,K,M,G],100)\n",
    "\n",
    "    fig, axs = plt.subplots()\n",
    "    bands = GR.get_bands()\n",
    "\n",
    "    for i in range(GR.N_orbs):\n",
    "        b = bands[:,i]\n",
    "        axs.plot(b,c='b')\n",
    "\n",
    "\n",
    "    plt.show()"
   ]
  },
  {
   "cell_type": "code",
   "execution_count": null,
   "id": "italic-brake",
   "metadata": {},
   "outputs": [],
   "source": []
  }
 ],
 "metadata": {
  "kernelspec": {
   "display_name": "Python 3",
   "language": "python",
   "name": "python3"
  },
  "language_info": {
   "codemirror_mode": {
    "name": "ipython",
    "version": 3
   },
   "file_extension": ".py",
   "mimetype": "text/x-python",
   "name": "python",
   "nbconvert_exporter": "python",
   "pygments_lexer": "ipython3",
   "version": "3.9.2"
  }
 },
 "nbformat": 4,
 "nbformat_minor": 5
}
